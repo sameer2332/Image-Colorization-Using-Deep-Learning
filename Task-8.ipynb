{
 "cells": [
  {
   "cell_type": "code",
   "execution_count": 11,
   "id": "8f9f8ed9-a371-4dd0-a997-6f0bf401bde2",
   "metadata": {},
   "outputs": [],
   "source": [
    "import cv2\n",
    "import torch\n",
    "import numpy as np\n",
    "from torchvision import transforms as T\n",
    "from torchvision.models.segmentation import deeplabv3_resnet101"
   ]
  },
  {
   "cell_type": "code",
   "execution_count": 13,
   "id": "a003fa05-a366-4f78-8606-c5a7d3ac6223",
   "metadata": {},
   "outputs": [],
   "source": [
    "device = torch.device(\"cuda\" if torch.cuda.is_available() else \"cpu\")"
   ]
  },
  {
   "cell_type": "code",
   "execution_count": 14,
   "id": "a272a2d4-b9ae-4471-a243-38a3ad232155",
   "metadata": {},
   "outputs": [],
   "source": [
    "model = deeplabv3_resnet101(pretrained=True).eval().to(device)"
   ]
  },
  {
   "cell_type": "code",
   "execution_count": 15,
   "id": "dfbaef3f-c271-477f-a38b-d9fde6552a63",
   "metadata": {},
   "outputs": [],
   "source": [
    "transform = T.Compose([\n",
    "    T.ToPILImage(),\n",
    "    T.Resize((360, 640)),\n",
    "    T.ToTensor(),\n",
    "    T.Normalize(mean=[0.485, 0.456, 0.406],\n",
    "                std=[0.229, 0.224, 0.225])\n",
    "])"
   ]
  },
  {
   "cell_type": "code",
   "execution_count": 16,
   "id": "db0c4fa6-1d07-47ea-883f-ace38634debc",
   "metadata": {},
   "outputs": [],
   "source": [
    "CLASS_COLORS = np.random.randint(0, 255, (21, 3), dtype=np.uint8)"
   ]
  },
  {
   "cell_type": "code",
   "execution_count": 17,
   "id": "2e46fbbb-5177-4f0c-a676-6363eebd0e6b",
   "metadata": {},
   "outputs": [],
   "source": [
    "def decode_segmap(segmentation):\n",
    "    \"\"\"Convert class indices to RGB mask.\"\"\"\n",
    "    seg_rgb = np.zeros((segmentation.shape[0], segmentation.shape[1], 3), dtype=np.uint8)\n",
    "    for label in np.unique(segmentation):\n",
    "        seg_rgb[segmentation == label] = CLASS_COLORS[label]\n",
    "    return seg_rgb"
   ]
  },
  {
   "cell_type": "code",
   "execution_count": 18,
   "id": "af8a4f3a-a994-4290-8927-1b5ee872878e",
   "metadata": {},
   "outputs": [],
   "source": [
    "cap = cv2.VideoCapture(0)"
   ]
  },
  {
   "cell_type": "code",
   "execution_count": null,
   "id": "0963d9c9-7fa8-468d-a77b-b9647130e02d",
   "metadata": {},
   "outputs": [],
   "source": [
    "    \n",
    "target = input_tensor.argmax(1).squeeze().cpu().numpy()\n",
    "accuracy = (segmentation == target).mean()\n",
    "print(f\"Frame accuracy: {accuracy:.2%}\", end='\\\\r')"
   ]
  },
  {
   "cell_type": "code",
   "execution_count": 19,
   "id": "214fa18e-6dab-43c4-8ce7-eca8936d8dc0",
   "metadata": {},
   "outputs": [
    {
     "name": "stdout",
     "output_type": "stream",
     "text": [
      "Press 'q' to exit.\n"
     ]
    }
   ],
   "source": [
    "if not cap.isOpened():\n",
    "    print(\"Error: Could not open webcam.\")\n",
    "    exit()\n",
    "\n",
    "print(\"Press 'q' to exit.\")"
   ]
  },
  {
   "cell_type": "code",
   "execution_count": null,
   "id": "7bf420d2-f64d-45aa-bfe3-a7acf5708d4f",
   "metadata": {},
   "outputs": [],
   "source": [
    "while True:\n",
    "    ret, frame = cap.read()\n",
    "    if not ret:\n",
    "        print(\"Failed to grab frame.\")\n",
    "        break\n",
    "\n",
    "    input_tensor = transform(frame).unsqueeze(0).to(device)\n",
    "\n",
    "    with torch.no_grad():\n",
    "        output = model(input_tensor)['out']\n",
    "        segmentation = torch.argmax(output.squeeze(), dim=0).cpu().numpy()\n",
    "\n",
    "    seg_rgb = decode_segmap(segmentation)\n",
    "    seg_rgb = cv2.resize(seg_rgb, (frame.shape[1], frame.shape[0]))\n",
    "\n",
    "    # Blend original frame with color mask\n",
    "    overlay = cv2.addWeighted(frame, 0.6, seg_rgb, 0.4, 0)\n",
    "\n",
    "    cv2.imshow(\"Multi-Object Colorization\", overlay)\n",
    "\n",
    "    if cv2.waitKey(1) & 0xFF == ord('q'):\n",
    "        break"
   ]
  },
  {
   "cell_type": "code",
   "execution_count": null,
   "id": "31c76200-1c59-4ca7-b437-05224db4cca1",
   "metadata": {},
   "outputs": [],
   "source": [
    "cap.release()\n",
    "cv2.destroyAllWindows()"
   ]
  },
  {
   "cell_type": "code",
   "execution_count": null,
   "id": "9fba1c1d-d97a-4317-819e-b199925676fe",
   "metadata": {},
   "outputs": [],
   "source": [
    "\n",
    "torch.save(model.state_dict(), 'deeplabv3_resnet101.pth')\n",
    "\n",
    "print(\"\\\\nModel saved. Class color mapping:\")\n",
    "for i, color in enumerate(CLASS_COLORS):\n",
    "    print(f\"Class {i}: RGB {color.tolist()}\")"
   ]
  }
 ],
 "metadata": {
  "kernelspec": {
   "display_name": "Python 3 (ipykernel)",
   "language": "python",
   "name": "python3"
  },
  "language_info": {
   "codemirror_mode": {
    "name": "ipython",
    "version": 3
   },
   "file_extension": ".py",
   "mimetype": "text/x-python",
   "name": "python",
   "nbconvert_exporter": "python",
   "pygments_lexer": "ipython3",
   "version": "3.12.4"
  }
 },
 "nbformat": 4,
 "nbformat_minor": 5
}
