{
 "cells": [
  {
   "cell_type": "code",
   "execution_count": 1,
   "id": "d011fd5a-6562-4993-aed1-89aa79403cf5",
   "metadata": {},
   "outputs": [],
   "source": [
    "import torch\n",
    "import torch.nn as nn\n",
    "import torch.optim as optim\n",
    "from torchvision import datasets, transforms\n",
    "from torch.utils.data import DataLoader, Dataset\n",
    "import numpy as np\n",
    "import matplotlib.pyplot as plt\n",
    "import tkinter as tk\n",
    "from tkinter import ttk\n",
    "from PIL import Image, ImageTk\n"
   ]
  },
  {
   "cell_type": "code",
   "execution_count": 2,
   "id": "87c8be98-b440-4352-a5ec-1cc52bb708d4",
   "metadata": {},
   "outputs": [],
   "source": [
    "class CIFARSegColorDataset(Dataset):\n",
    "    def __init__(self, train=True):\n",
    "        self.dataset = datasets.CIFAR10(root='./data', train=train, download=True)\n",
    "        self.to_tensor = transforms.ToTensor()\n",
    "        self.to_gray = transforms.Compose([transforms.Grayscale(), transforms.ToTensor()])\n",
    "\n",
    "    def __len__(self):\n",
    "        return len(self.dataset)\n",
    "\n",
    "    def __getitem__(self, idx):\n",
    "        img, _ = self.dataset[idx]\n",
    "        gray = self.to_gray(img)\n",
    "        color = self.to_tensor(img)\n",
    "\n",
    "        # Simulated foreground mask: 16x16 center\n",
    "        mask = torch.zeros(1, 32, 32)\n",
    "        mask[:, 8:24, 8:24] = 1.0  # foreground\n",
    "\n",
    "        return gray, color, mask\n"
   ]
  },
  {
   "cell_type": "code",
   "execution_count": 3,
   "id": "2390ffdf-a8d4-43e4-b989-8c7fc4a09d5f",
   "metadata": {},
   "outputs": [],
   "source": [
    "class SegmentColorNet(nn.Module):\n",
    "    def __init__(self):\n",
    "        super().__init__()\n",
    "        self.encoder = nn.Sequential(\n",
    "            nn.Conv2d(1, 64, 3, padding=1), nn.ReLU(),\n",
    "            nn.Conv2d(64, 128, 3, stride=2, padding=1), nn.ReLU(),\n",
    "        )\n",
    "        self.middle = nn.Sequential(\n",
    "            nn.Conv2d(128, 128, 3, padding=1), nn.ReLU(),\n",
    "        )\n",
    "        self.decoder = nn.Sequential(\n",
    "            nn.Conv2d(128, 64, 3, padding=1), nn.ReLU(),\n",
    "            nn.Upsample(scale_factor=2),\n",
    "            nn.Conv2d(64, 3, 3, padding=1), nn.Sigmoid()\n",
    "        )\n",
    "\n",
    "    def forward(self, x):\n",
    "        x = self.encoder(x)\n",
    "        x = self.middle(x)\n",
    "        x = self.decoder(x)\n",
    "        return x\n"
   ]
  },
  {
   "cell_type": "code",
   "execution_count": null,
   "id": "df8cf9b2-4a60-4562-b99f-ee49891de3a8",
   "metadata": {},
   "outputs": [
    {
     "name": "stdout",
     "output_type": "stream",
     "text": [
      "Epoch 1 Loss: 0.0021\n",
      "Epoch 2 Loss: 0.0016\n",
      "Epoch 3 Loss: 0.0015\n",
      "Epoch 4 Loss: 0.0015\n",
      "Epoch 5 Loss: 0.0015\n"
     ]
    }
   ],
   "source": [
    "device = torch.device(\"cuda\" if torch.cuda.is_available() else \"cpu\")\n",
    "dataset = CIFARSegColorDataset(train=True)\n",
    "loader = DataLoader(dataset, batch_size=64, shuffle=True)\n",
    "\n",
    "model = SegmentColorNet().to(device)\n",
    "optimizer = optim.Adam(model.parameters(), lr=1e-3)\n",
    "criterion = nn.MSELoss()\n",
    "\n",
    "for epoch in range(15):\n",
    "    model.train()\n",
    "    total_loss = 0\n",
    "    for gray, color, mask in loader:\n",
    "        gray, color, mask = gray.to(device), color.to(device), mask.to(device)\n",
    "\n",
    "        output = model(gray)\n",
    "\n",
    "        # Apply mask: only compute loss where mask == 1 (target region)\n",
    "        masked_output = output * mask\n",
    "        masked_color = color * mask\n",
    "\n",
    "        loss = criterion(masked_output, masked_color)\n",
    "        optimizer.zero_grad()\n",
    "        loss.backward()\n",
    "        optimizer.step()\n",
    "        total_loss += loss.item()\n",
    "\n",
    "    print(f\"Epoch {epoch+1} Loss: {total_loss/len(loader):.4f}\")\n"
   ]
  },
  {
   "cell_type": "code",
   "execution_count": null,
   "id": "4e02b942-8206-41ea-90f6-d41059cc9a8d",
   "metadata": {},
   "outputs": [],
   "source": [
    "torch.save(model.state_dict(), 'segment_color_model.pth')"
   ]
  },
  {
   "cell_type": "code",
   "execution_count": null,
   "id": "dff12a07-aff4-4ab0-a7f6-d58feb1a5acd",
   "metadata": {},
   "outputs": [],
   "source": [
    "\n",
    "from sklearn.metrics import confusion_matrix, precision_score, recall_score\n",
    "\n",
    "def evaluate_model(model, dataloader):\n",
    "    model.eval()\n",
    "    y_true, y_pred = [], []\n",
    "    with torch.no_grad():\n",
    "        for gray, color, mask in dataloader:\n",
    "            gray, color, mask = gray.to(device), color.to(device), mask.to(device)\n",
    "            output = model(gray)\n",
    "            pred_mask = (output > 0.5).float()\n",
    "            gt_mask = (mask > 0.5).float()\n",
    "            y_true.extend(gt_mask.cpu().numpy().flatten())\n",
    "            y_pred.extend(pred_mask.cpu().numpy().flatten())\n",
    "\n",
    "    cm = confusion_matrix(y_true, y_pred)\n",
    "    precision = precision_score(y_true, y_pred, zero_division=0)\n",
    "    recall = recall_score(y_true, y_pred, zero_division=0)\n",
    "    print(\"Confusion Matrix:\\n\", cm)\n",
    "    print(f\"Precision: {precision:.4f}, Recall: {recall:.4f}\")\n",
    "\n",
    "\n",
    "evaluate_model(model, val_loader)\n"
   ]
  },
  {
   "cell_type": "code",
   "execution_count": null,
   "id": "059be14c-ae80-4ddd-9741-2cd7460d37ac",
   "metadata": {},
   "outputs": [],
   "source": [
    "def visualize_targeted_colorization(model, dataset, region=\"foreground\"):\n",
    "    model.eval()\n",
    "    gray, color, mask = dataset[0]\n",
    "    with torch.no_grad():\n",
    "        pred = model(gray.unsqueeze(0).to(device)).squeeze(0).cpu()\n",
    "\n",
    "    mask_np = mask.squeeze().numpy()\n",
    "    pred_np = pred.permute(1, 2, 0).numpy()\n",
    "    gray_np = gray.squeeze().numpy()\n",
    "    color_np = color.permute(1, 2, 0).numpy()\n",
    "\n",
    "    if region == \"foreground\":\n",
    "        final = pred_np * mask_np[..., None] + gray_np[..., None] * (1 - mask_np[..., None])\n",
    "    else:\n",
    "        final = pred_np * (1 - mask_np[..., None]) + gray_np[..., None] * mask_np[..., None]\n",
    "\n",
    "    plt.figure(figsize=(10, 4))\n",
    "    plt.subplot(1, 3, 1)\n",
    "    plt.imshow(gray_np, cmap='gray')\n",
    "    plt.title(\"Input Grayscale\")\n",
    "    plt.subplot(1, 3, 2)\n",
    "    plt.imshow(color_np)\n",
    "    plt.title(\"Ground Truth\")\n",
    "    plt.subplot(1, 3, 3)\n",
    "    plt.imshow(final)\n",
    "    plt.title(f\"Targeted Colorization ({region})\")\n",
    "    plt.show()\n"
   ]
  },
  {
   "cell_type": "code",
   "execution_count": null,
   "id": "e172830c-40cc-40f0-a42b-be21418611fd",
   "metadata": {},
   "outputs": [],
   "source": [
    "def launch_gui(model, dataset):\n",
    "    def update(region):\n",
    "        canvas.delete(\"all\")\n",
    "        visualize_targeted_colorization(model, dataset, region=region)\n",
    "\n",
    "    root = tk.Tk()\n",
    "    root.title(\"Targeted Colorization Viewer\")\n",
    "\n",
    "    ttk.Button(root, text=\"Colorize Foreground\", command=lambda: update(\"foreground\")).pack()\n",
    "    ttk.Button(root, text=\"Colorize Background\", command=lambda: update(\"background\")).pack()\n",
    "\n",
    "    canvas = tk.Canvas(root, width=300, height=300)\n",
    "    canvas.pack()\n",
    "\n",
    "    root.mainloop()\n"
   ]
  },
  {
   "cell_type": "code",
   "execution_count": null,
   "id": "dfa20aea-2dc5-4a09-bfaa-e237a1efb84b",
   "metadata": {},
   "outputs": [],
   "source": []
  }
 ],
 "metadata": {
  "kernelspec": {
   "display_name": "Python 3 (ipykernel)",
   "language": "python",
   "name": "python3"
  },
  "language_info": {
   "codemirror_mode": {
    "name": "ipython",
    "version": 3
   },
   "file_extension": ".py",
   "mimetype": "text/x-python",
   "name": "python",
   "nbconvert_exporter": "python",
   "pygments_lexer": "ipython3",
   "version": "3.12.4"
  }
 },
 "nbformat": 4,
 "nbformat_minor": 5
}
