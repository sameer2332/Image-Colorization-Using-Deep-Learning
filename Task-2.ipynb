{
 "cells": [
  {
   "cell_type": "code",
   "execution_count": 2,
   "id": "262fdd77-fc03-4fed-adc6-6738a650ea7a",
   "metadata": {},
   "outputs": [],
   "source": [
    "import torch\n",
    "import torch.nn as nn\n",
    "import torch.optim as optim\n",
    "import torchvision\n",
    "import torchvision.transforms as transforms\n",
    "from torch.utils.data import Dataset, DataLoader\n",
    "import numpy as np\n",
    "import matplotlib.pyplot as plt\n"
   ]
  },
  {
   "cell_type": "code",
   "execution_count": 3,
   "id": "c198da9c-a9af-4d81-b880-489a7d51b297",
   "metadata": {},
   "outputs": [],
   "source": [
    "device = torch.device(\"cuda\" if torch.cuda.is_available() else \"cpu\")"
   ]
  },
  {
   "cell_type": "code",
   "execution_count": 4,
   "id": "7f281b47-68db-4199-aa5d-f94c5756c83f",
   "metadata": {},
   "outputs": [],
   "source": [
    "class GrayscaleCIFAR10(Dataset):\n",
    "    def __init__(self, train=True):\n",
    "        self.dataset = torchvision.datasets.CIFAR10(\n",
    "            root='./data',\n",
    "            train=train,\n",
    "            download=True,\n",
    "            transform=transforms.ToTensor()\n",
    "        )\n",
    "\n",
    "    def __len__(self):\n",
    "        return len(self.dataset)\n",
    "\n",
    "    def __getitem__(self, idx):\n",
    "        img, _ = self.dataset[idx]  # shape: [3, 32, 32]\n",
    "        gray = transforms.functional.rgb_to_grayscale(img)  # shape: [1, 32, 32]\n",
    "        return gray, img  # input, target\n"
   ]
  },
  {
   "cell_type": "code",
   "execution_count": 5,
   "id": "fb7119b8-a892-42d4-8f9b-38051acc543d",
   "metadata": {},
   "outputs": [],
   "source": [
    "train_loader = DataLoader(GrayscaleCIFAR10(train=True), batch_size=64, shuffle=True)\n",
    "test_loader = DataLoader(GrayscaleCIFAR10(train=False), batch_size=64, shuffle=False)\n"
   ]
  },
  {
   "cell_type": "code",
   "execution_count": 6,
   "id": "742283ad-3c39-44e7-8780-285b6743baf9",
   "metadata": {},
   "outputs": [],
   "source": [
    "class ColorizationNet(nn.Module):\n",
    "    def __init__(self):\n",
    "        super(ColorizationNet, self).__init__()\n",
    "        self.encoder = nn.Sequential(\n",
    "            nn.Conv2d(1, 64, 3, padding=1), nn.ReLU(),\n",
    "            nn.Conv2d(64, 128, 3, padding=1), nn.ReLU(),\n",
    "            nn.MaxPool2d(2)\n",
    "        )\n",
    "        self.decoder = nn.Sequential(\n",
    "            nn.Conv2d(128, 64, 3, padding=1), nn.ReLU(),\n",
    "            nn.Upsample(scale_factor=2),\n",
    "            nn.Conv2d(64, 3, 3, padding=1), nn.Sigmoid()\n",
    "        )\n",
    "\n",
    "    def forward(self, x):\n",
    "        x = self.encoder(x)\n",
    "        x = self.decoder(x)\n",
    "        return x\n"
   ]
  },
  {
   "cell_type": "code",
   "execution_count": null,
   "id": "f85fcbe3-fd06-43d6-ba13-e9b6a29a2f2f",
   "metadata": {},
   "outputs": [
    {
     "name": "stdout",
     "output_type": "stream",
     "text": [
      "Epoch [1/5], Loss: 0.0081\n"
     ]
    }
   ],
   "source": [
    "\n",
    "model = ColorizationNet().to(device)\n",
    "\n",
    "criterion = nn.MSELoss()\n",
    "optimizer = optim.Adam(model.parameters(), lr=0.001)\n",
    "\n",
    "for epoch in range(5):  # increase for better results\n",
    "    model.train()\n",
    "    running_loss = 0.0\n",
    "    for gray, color in train_loader:\n",
    "        gray, color = gray.to(device), color.to(device)\n",
    "\n",
    "        optimizer.zero_grad()\n",
    "        outputs = model(gray)\n",
    "        loss = criterion(outputs, color)\n",
    "        loss.backward()\n",
    "        optimizer.step()\n",
    "\n",
    "        running_loss += loss.item()\n",
    "\n",
    "    print(f\"Epoch [{epoch+1}/5], Loss: {running_loss/len(train_loader):.4f}\")\n"
   ]
  },
  {
   "cell_type": "code",
   "execution_count": null,
   "id": "01154028-7158-4e18-85bd-5d3cf9f638b1",
   "metadata": {},
   "outputs": [],
   "source": [
    "import matplotlib.pyplot as plt\n",
    "\n",
    "model.eval()\n",
    "with torch.no_grad():\n",
    "    for gray, color in test_loader:\n",
    "        gray = gray.to(device)\n",
    "        output = model(gray)\n",
    "\n",
    "        # Show results\n",
    "        gray = gray.cpu().numpy()\n",
    "        output = output.cpu().numpy()\n",
    "        color = color.numpy()\n",
    "\n",
    "        for i in range(5):  # display 5 examples\n",
    "            fig, axs = plt.subplots(1, 3, figsize=(9, 3))\n",
    "            axs[0].imshow(gray[i][0], cmap='gray')\n",
    "            axs[0].set_title('Grayscale Input')\n",
    "            axs[1].imshow(np.transpose(output[i], (1, 2, 0)))\n",
    "            axs[1].set_title('Colorized Output')\n",
    "            axs[2].imshow(np.transpose(color[i], (1, 2, 0)))\n",
    "            axs[2].set_title('Ground Truth')\n",
    "            for ax in axs:\n",
    "                ax.axis('off')\n",
    "            plt.show()\n",
    "        break\n"
   ]
  },
  {
   "cell_type": "code",
   "execution_count": null,
   "id": "2c6260b7-3323-4fff-958e-fda21f82b620",
   "metadata": {},
   "outputs": [],
   "source": []
  }
 ],
 "metadata": {
  "kernelspec": {
   "display_name": "Python 3 (ipykernel)",
   "language": "python",
   "name": "python3"
  },
  "language_info": {
   "codemirror_mode": {
    "name": "ipython",
    "version": 3
   },
   "file_extension": ".py",
   "mimetype": "text/x-python",
   "name": "python",
   "nbconvert_exporter": "python",
   "pygments_lexer": "ipython3",
   "version": "3.12.4"
  }
 },
 "nbformat": 4,
 "nbformat_minor": 5
}
