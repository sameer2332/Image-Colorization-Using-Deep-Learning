{
 "cells": [
  {
   "cell_type": "code",
   "execution_count": 1,
   "id": "05de00cf-4e10-4a8c-b99f-9ed67be8bd73",
   "metadata": {},
   "outputs": [],
   "source": [
    "import torch\n",
    "import torch.nn as nn\n",
    "import torch.nn.functional as F\n",
    "import torchvision\n",
    "import torchvision.transforms as transforms\n",
    "from torch.utils.data import DataLoader\n",
    "import matplotlib.pyplot as plt"
   ]
  },
  {
   "cell_type": "code",
   "execution_count": 2,
   "id": "6ae13773-8945-4c18-9fb7-7a8e12638a88",
   "metadata": {},
   "outputs": [],
   "source": [
    "device = torch.device('cuda' if torch.cuda.is_available() else 'cpu')"
   ]
  },
  {
   "cell_type": "code",
   "execution_count": 3,
   "id": "4f3ad6e3-2371-418a-bcca-9e40fcee2eae",
   "metadata": {},
   "outputs": [],
   "source": [
    "class CrossDomainDataset(torch.utils.data.Dataset):\n",
    "    def __init__(self, domain='sketch'):\n",
    "        self.domain = domain\n",
    "        transform = transforms.Compose([\n",
    "            transforms.Resize((32, 32)),\n",
    "            transforms.ToTensor()\n",
    "        ])\n",
    "        self.dataset = torchvision.datasets.CIFAR10(root='./data', train=True, transform=transform, download=True)\n",
    "\n",
    "    def __getitem__(self, index):\n",
    "        img, _ = self.dataset[index]\n",
    "        color = img\n",
    "\n",
    "        if self.domain == 'sketch':\n",
    "            gray = torch.mean(img, dim=0, keepdim=True)\n",
    "        elif self.domain == 'satellite':\n",
    "            gray = img[1].unsqueeze(0)  # use only green channel\n",
    "        else:\n",
    "            raise ValueError(\"Invalid domain\")\n",
    "\n",
    "        return gray, color\n",
    "\n",
    "    def __len__(self):\n",
    "        return len(self.dataset)"
   ]
  },
  {
   "cell_type": "code",
   "execution_count": 4,
   "id": "10047553-6bad-4670-8724-09604cdeb5b4",
   "metadata": {},
   "outputs": [],
   "source": [
    "class UNetColorization(nn.Module):\n",
    "    def __init__(self):\n",
    "        super().__init__()\n",
    "        self.encoder = nn.Sequential(\n",
    "            nn.Conv2d(1, 64, 3, padding=1), nn.ReLU(),\n",
    "            nn.Conv2d(64, 128, 3, padding=1), nn.ReLU()\n",
    "        )\n",
    "        self.decoder = nn.Sequential(\n",
    "            nn.Conv2d(128, 64, 3, padding=1), nn.ReLU(),\n",
    "            nn.Conv2d(64, 3, 3, padding=1), nn.Tanh()  # Output 3 channels\n",
    "        )\n",
    "\n",
    "    def forward(self, x):\n",
    "        x = self.encoder(x)\n",
    "        x = self.decoder(x)\n",
    "        return x"
   ]
  },
  {
   "cell_type": "code",
   "execution_count": 5,
   "id": "1ae4202e-a20c-42e8-a2f2-2bb31fdc0b6e",
   "metadata": {},
   "outputs": [],
   "source": [
    "def train_one_epoch(domain='sketch'):\n",
    "    dataset = CrossDomainDataset(domain)\n",
    "    loader = DataLoader(dataset, batch_size=32, shuffle=True)\n",
    "\n",
    "    model = UNetColorization().to(device)\n",
    "    criterion = nn.MSELoss()\n",
    "    optimizer = torch.optim.Adam(model.parameters(), lr=1e-3)\n",
    "\n",
    "    model.train()\n",
    "    for gray, color in loader:\n",
    "        gray, color = gray.to(device), color.to(device)\n",
    "\n",
    "        output = model(gray)\n",
    "        loss = criterion(output, color)\n",
    "\n",
    "        optimizer.zero_grad()\n",
    "        loss.backward()\n",
    "        optimizer.step()\n",
    "\n",
    "    print(f\"Domain: {domain} | Loss: {loss.item():.4f}\")\n",
    "    return model"
   ]
  },
  {
   "cell_type": "code",
   "execution_count": null,
   "id": "b8dddfeb-04dc-43d9-a09d-c75eb1791acc",
   "metadata": {},
   "outputs": [],
   "source": [
    "\n",
    "torch.save(model_sketch.state_dict(), 'unet_sketch.pth')\n",
    "torch.save(model_satellite.state_dict(), 'unet_satellite.pth')\n",
    "\n",
    "\n",
    "with torch.no_grad():\n",
    "    pred = model_sketch(gray.unsqueeze(0).to(device))\n",
    "    accuracy = (pred.round() == color.to(device)).float().mean()\n",
    "    print(f\"Sketch model accuracy: {accuracy.item():.4f}\")"
   ]
  },
  {
   "cell_type": "code",
   "execution_count": null,
   "id": "a1d3253e-a44c-4855-9085-5595b5445ef7",
   "metadata": {},
   "outputs": [],
   "source": []
  },
  {
   "cell_type": "code",
   "execution_count": 6,
   "id": "541c33f0-6fd2-4850-83b7-035a679e9cf7",
   "metadata": {},
   "outputs": [],
   "source": [
    "def visualize_output(model, domain='sketch'):\n",
    "    dataset = CrossDomainDataset(domain)\n",
    "    gray, color = dataset[0]\n",
    "    model.eval()\n",
    "\n",
    "    with torch.no_grad():\n",
    "        pred = model(gray.unsqueeze(0).to(device))\n",
    "    \n",
    "    plt.figure(figsize=(12,4))\n",
    "    plt.subplot(1, 3, 1)\n",
    "    plt.title(\"Grayscale Input\")\n",
    "    plt.imshow(gray.squeeze().cpu(), cmap='gray')\n",
    "    \n",
    "    plt.subplot(1, 3, 2)\n",
    "    plt.title(\"Ground Truth Color\")\n",
    "    plt.imshow(color.permute(1,2,0).cpu())\n",
    "\n",
    "    plt.subplot(1, 3, 3)\n",
    "    plt.title(\"Predicted Color\")\n",
    "    plt.imshow(pred.squeeze().permute(1,2,0).cpu().clamp(0,1))\n",
    "    plt.show()"
   ]
  },
  {
   "cell_type": "code",
   "execution_count": null,
   "id": "9cc719f8-ef95-4c6d-b26d-cf4fa3d71d32",
   "metadata": {},
   "outputs": [
    {
     "name": "stdout",
     "output_type": "stream",
     "text": [
      "Domain: sketch | Loss: 0.0064\n"
     ]
    }
   ],
   "source": [
    "model_sketch = train_one_epoch(domain='sketch')\n",
    "visualize_output(model_sketch, domain='sketch')\n",
    "\n",
    "model_satellite = train_one_epoch(domain='satellite')\n",
    "visualize_output(model_satellite, domain='satellite')"
   ]
  },
  {
   "cell_type": "code",
   "execution_count": null,
   "id": "943dae5a-83fe-43fd-8006-b20aaec3ab37",
   "metadata": {},
   "outputs": [],
   "source": []
  }
 ],
 "metadata": {
  "kernelspec": {
   "display_name": "Python 3 (ipykernel)",
   "language": "python",
   "name": "python3"
  },
  "language_info": {
   "codemirror_mode": {
    "name": "ipython",
    "version": 3
   },
   "file_extension": ".py",
   "mimetype": "text/x-python",
   "name": "python",
   "nbconvert_exporter": "python",
   "pygments_lexer": "ipython3",
   "version": "3.12.4"
  }
 },
 "nbformat": 4,
 "nbformat_minor": 5
}
