{
 "cells": [
  {
   "cell_type": "code",
   "execution_count": 1,
   "id": "50c0ea80-d6ad-4714-8adf-18b36d928680",
   "metadata": {},
   "outputs": [],
   "source": [
    "import torch\n",
    "import torch.nn as nn\n",
    "import torch.optim as optim\n",
    "from torchvision import datasets, transforms\n",
    "from torch.utils.data import DataLoader, Dataset\n",
    "import matplotlib.pyplot as plt\n",
    "import numpy as np\n"
   ]
  },
  {
   "cell_type": "code",
   "execution_count": 3,
   "id": "0ba5a90d-0631-4a0e-8887-1e1392d304b7",
   "metadata": {},
   "outputs": [],
   "source": [
    "class CIFARGrayscaleColorization(Dataset):\n",
    "    def __init__(self, train=True):\n",
    "        self.dataset = datasets.CIFAR10(root='./data', train=train, download=True)\n",
    "        self.transform_input = transforms.Compose([\n",
    "            transforms.ToTensor(),\n",
    "            transforms.Grayscale(),\n",
    "        ])\n",
    "        self.transform_target = transforms.Compose([\n",
    "            transforms.ToTensor()\n",
    "        ])\n",
    "\n",
    "    def __len__(self):\n",
    "        return len(self.dataset)\n",
    "\n",
    "    def __getitem__(self, idx):\n",
    "        img, _ = self.dataset[idx]\n",
    "        gray = self.transform_input(img)\n",
    "        color = self.transform_target(img)\n",
    "        return gray, color\n"
   ]
  },
  {
   "cell_type": "code",
   "execution_count": 4,
   "id": "a98d2eb7-7613-4abe-b727-4e2cf15cd4da",
   "metadata": {},
   "outputs": [],
   "source": [
    "class ColorizationNet(nn.Module):\n",
    "    def __init__(self):\n",
    "        super(ColorizationNet, self).__init__()\n",
    "        self.encoder = nn.Sequential(\n",
    "            nn.Conv2d(1, 64, 3, padding=1), nn.ReLU(),\n",
    "            nn.Conv2d(64, 128, 3, stride=2, padding=1), nn.ReLU(),\n",
    "            nn.Conv2d(128, 256, 3, stride=2, padding=1), nn.ReLU()\n",
    "        )\n",
    "        self.decoder = nn.Sequential(\n",
    "            nn.Conv2d(256, 128, 3, padding=1), nn.ReLU(),\n",
    "            nn.Upsample(scale_factor=2),\n",
    "            nn.Conv2d(128, 64, 3, padding=1), nn.ReLU(),\n",
    "            nn.Upsample(scale_factor=2),\n",
    "            nn.Conv2d(64, 3, 3, padding=1), nn.Sigmoid()  # Output: RGB [0,1]\n",
    "        )\n",
    "\n",
    "    def forward(self, x):\n",
    "        x = self.encoder(x)\n",
    "        x = self.decoder(x)\n",
    "        return x\n"
   ]
  },
  {
   "cell_type": "code",
   "execution_count": 5,
   "id": "b2c45029-84af-4ccf-86a4-3b7d13fff67e",
   "metadata": {},
   "outputs": [],
   "source": [
    "# Hyperparameters\n",
    "device = torch.device(\"cuda\" if torch.cuda.is_available() else \"cpu\")\n",
    "batch_size = 64\n",
    "epochs = 20\n",
    "lr = 1e-3\n",
    "\n",
    "# Dataset and loader\n",
    "train_dataset = CIFARGrayscaleColorization(train=True)\n",
    "train_loader = DataLoader(train_dataset, batch_size=batch_size, shuffle=True)\n",
    "\n",
    "# Model, loss, optimizer\n",
    "model = ColorizationNet().to(device)\n",
    "criterion = nn.MSELoss()\n",
    "optimizer = optim.Adam(model.parameters(), lr=lr)\n"
   ]
  },
  {
   "cell_type": "code",
   "execution_count": null,
   "id": "9658112d-bbc6-4eb2-bbe8-abed0dd961f1",
   "metadata": {},
   "outputs": [
    {
     "name": "stdout",
     "output_type": "stream",
     "text": [
      "Epoch 1/20 - Loss: 0.0108\n",
      "Epoch 2/20 - Loss: 0.0073\n",
      "Epoch 3/20 - Loss: 0.0067\n",
      "Epoch 4/20 - Loss: 0.0064\n",
      "Epoch 5/20 - Loss: 0.0061\n",
      "Epoch 6/20 - Loss: 0.0060\n",
      "Epoch 7/20 - Loss: 0.0059\n",
      "Epoch 8/20 - Loss: 0.0058\n",
      "Epoch 9/20 - Loss: 0.0057\n",
      "Epoch 10/20 - Loss: 0.0057\n",
      "Epoch 11/20 - Loss: 0.0056\n",
      "Epoch 12/20 - Loss: 0.0056\n",
      "Epoch 13/20 - Loss: 0.0055\n",
      "Epoch 14/20 - Loss: 0.0055\n",
      "Epoch 15/20 - Loss: 0.0054\n"
     ]
    }
   ],
   "source": [
    "for epoch in range(epochs):\n",
    "    total_loss = 0\n",
    "    for gray, color in train_loader:\n",
    "        gray, color = gray.to(device), color.to(device)\n",
    "        optimizer.zero_grad()\n",
    "        output = model(gray)\n",
    "        loss = criterion(output, color)\n",
    "        loss.backward()\n",
    "        optimizer.step()\n",
    "        total_loss += loss.item()\n",
    "    print(f\"Epoch {epoch+1}/{epochs} - Loss: {total_loss/len(train_loader):.4f}\")\n"
   ]
  },
  {
   "cell_type": "code",
   "execution_count": null,
   "id": "bdaf4407-c0b8-4c28-b2a4-c37c25347d1e",
   "metadata": {},
   "outputs": [],
   "source": [
    "def show_colorization_results(model, dataset, num_images=5):\n",
    "    model.eval()\n",
    "    fig, axs = plt.subplots(num_images, 3, figsize=(10, num_images * 3))\n",
    "\n",
    "    for i in range(num_images):\n",
    "        gray, real = dataset[i]\n",
    "        with torch.no_grad():\n",
    "            pred = model(gray.unsqueeze(0).to(device)).squeeze(0).cpu()\n",
    "        axs[i, 0].imshow(gray.squeeze(), cmap='gray')\n",
    "        axs[i, 0].set_title(\"Grayscale\")\n",
    "        axs[i, 1].imshow(real.permute(1, 2, 0))\n",
    "        axs[i, 1].set_title(\"Ground Truth\")\n",
    "        axs[i, 2].imshow(pred.permute(1, 2, 0).numpy())\n",
    "        axs[i, 2].set_title(\"Predicted\")\n",
    "        for j in range(3):\n",
    "            axs[i, j].axis(\"off\")\n",
    "\n",
    "    plt.tight_layout()\n",
    "    plt.show()\n",
    "\n",
    "# Visualize\n",
    "show_colorization_results(model, train_dataset)\n"
   ]
  },
  {
   "cell_type": "code",
   "execution_count": null,
   "id": "ad6d2318-c42d-40bc-9a4d-50dea05ac35b",
   "metadata": {},
   "outputs": [],
   "source": []
  }
 ],
 "metadata": {
  "kernelspec": {
   "display_name": "Python 3 (ipykernel)",
   "language": "python",
   "name": "python3"
  },
  "language_info": {
   "codemirror_mode": {
    "name": "ipython",
    "version": 3
   },
   "file_extension": ".py",
   "mimetype": "text/x-python",
   "name": "python",
   "nbconvert_exporter": "python",
   "pygments_lexer": "ipython3",
   "version": "3.12.4"
  }
 },
 "nbformat": 4,
 "nbformat_minor": 5
}
